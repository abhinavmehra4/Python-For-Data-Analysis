{
 "cells": [
  {
   "cell_type": "code",
   "execution_count": 2,
   "metadata": {},
   "outputs": [
    {
     "name": "stdout",
     "output_type": "stream",
     "text": [
      "Hey\n"
     ]
    }
   ],
   "source": [
    "print('Hey')\n"
   ]
  },
  {
   "cell_type": "code",
   "execution_count": 3,
   "metadata": {},
   "outputs": [
    {
     "name": "stdout",
     "output_type": "stream",
     "text": [
      "var      -->  Hello World!\n",
      "var[0]   -->  H\n",
      "var[1:5] -->  ello\n",
      "var[:-5] -->  Hello W\n"
     ]
    }
   ],
   "source": [
    "var = 'Hello World!'\n",
    "print (\"var      --> \", var)\n",
    "print (\"var[0]   --> \", var[0])\n",
    "print (\"var[1:5] --> \", var[1:5])\n",
    "print (\"var[:-5] --> \", var[:-5])"
   ]
  },
  {
   "cell_type": "code",
   "execution_count": 4,
   "metadata": {},
   "outputs": [
    {
     "name": "stdout",
     "output_type": "stream",
     "text": [
      "HEY GOOGLE WHATS UP\n",
      "hey google whats up\n",
      "19\n"
     ]
    }
   ],
   "source": [
    "var = 'Hey google whats up'\n",
    "print(var.upper())\n",
    "print(var.lower())\n",
    "print(len(var))\n"
   ]
  },
  {
   "cell_type": "code",
   "execution_count": 5,
   "metadata": {},
   "outputs": [
    {
     "name": "stdout",
     "output_type": "stream",
     "text": [
      "Enter your name: hi\n",
      "Enter your age : 89\n",
      "Enter the book price: 987\n",
      "\n",
      "Your name is HI, age is 89 and book price is 987.000000\n"
     ]
    }
   ],
   "source": [
    "name=input(\"Enter your name: \")\n",
    "age=int(input(\"Enter your age : \"))\n",
    "price=float(input(\"Enter the book price: \"))\n",
    "s=\"\\nYour name is %s, age is %d and book price is %f\" %(name.upper(),age,price)\n",
    "print (s)"
   ]
  },
  {
   "cell_type": "code",
   "execution_count": 6,
   "metadata": {},
   "outputs": [
    {
     "name": "stdout",
     "output_type": "stream",
     "text": [
      "String    -->   Indian   Army    \n",
      "Length    -->  18\n",
      "var strip -->  Indian   Army\n",
      "Length of var after strip -->  13\n"
     ]
    }
   ],
   "source": [
    "var =\" Indian   Army    \"\n",
    "\n",
    "print(\"String    --> \", var)\n",
    "print(\"Length    --> \", len(var))\n",
    "print(\"var strip --> \", var.strip())\n",
    "print(\"Length of var after strip --> \", len(var.strip()))"
   ]
  },
  {
   "cell_type": "code",
   "execution_count": 7,
   "metadata": {},
   "outputs": [
    {
     "name": "stdout",
     "output_type": "stream",
     "text": [
      "xoxo love xoxo\n",
      "lov\n",
      "  xoxo love xoxo   \n",
      "droid is awesome\n"
     ]
    }
   ],
   "source": [
    "string = '  xoxo love xoxo   '\n",
    "\n",
    "# Leading and trailing whitespaces are removed\n",
    "print(string.strip())\n",
    "\n",
    "# All <whitespace>,x,o,e characters in the left\n",
    "# and right of string are removed\n",
    "print(string.strip(' xoe'))\n",
    "\n",
    "# Argument doesn't contain space\n",
    "# No characters are removed.\n",
    "print(string.strip('stx'))\n",
    "\n",
    "string = 'android is awesome'\n",
    "print(string.strip('an'))\n",
    "\n",
    "#Hence for using the strip(), whatever argument that you use, that will be removed unlessit is a default removal of whitespace.\n"
   ]
  },
  {
   "cell_type": "code",
   "execution_count": 8,
   "metadata": {},
   "outputs": [
    {
     "name": "stdout",
     "output_type": "stream",
     "text": [
      "String    -->   Indian,   Army    \n",
      "Length    -->  19\n",
      "var split -->  ['Indian,', 'Army']\n",
      "var split -->  ['', 'Indian,', '', '', 'Army', '', '', '', '']\n",
      "var split -->  [' Indian', '   Army    ']\n",
      "var split -->  ['Indian', '   Army']\n"
     ]
    }
   ],
   "source": [
    "# str.split(separator, maxsplit)\n",
    "\n",
    "# The split() method takes a maximum of 2 parameters:\n",
    "\n",
    "# separator (optional)- Delimiter at which splits occur. If not provided, the string is splitted at whitespaces.\n",
    "# maxsplit (optional) - Maximum number of splits. If not provided, there is no limit on the number of splits.\n",
    "text= 'Love thy neighbor'\n",
    "\n",
    "# # splits at space\n",
    "# print(text.split())\n",
    "\n",
    "# grocery = 'Milk, Chicken, Bread'\n",
    "\n",
    "# # splits at ','\n",
    "# print(grocery.split(', '))\n",
    "\n",
    "# # Splits at ':'\n",
    "# print(grocery.split(':'))\n",
    "\n",
    "var =\" Indian,   Army    \"\n",
    "\n",
    "print(\"String    --> \", var)\n",
    "print(\"Length    --> \", len(var)) #Finds the number of characters.\n",
    "print(\"var split --> \", var.split()) #the split occurs such that all whitespaces are removes\n",
    "print(\"var split --> \", var.split(' ')) #Split occurs such that all the whitespaces are also available.\n",
    "print(\"var split --> \", var.split(',')) #Split occurs at the ,\n",
    "\n",
    "# Strip + Split\n",
    "print(\"var split --> \", var.strip().split(',')) #remove all thee whitespaces and then split"
   ]
  },
  {
   "cell_type": "code",
   "execution_count": 9,
   "metadata": {},
   "outputs": [
    {
     "name": "stdout",
     "output_type": "stream",
     "text": [
      "String       -->   Indian Army    \n",
      "Count of ' ' -->  6\n",
      "Count of 'a' -->  1\n",
      "Count of 'n' -->  1\n"
     ]
    }
   ],
   "source": [
    "var=\" Indian Army    \"\n",
    "print (\"String       --> \", var)\n",
    "print (\"Count of ' ' --> \", var.count(' '))\n",
    "print (\"Count of 'a' --> \", var.count('a'))\n",
    "print (\"Count of 'n' --> \", var.count('an'))"
   ]
  },
  {
   "cell_type": "code",
   "execution_count": 10,
   "metadata": {},
   "outputs": [
    {
     "name": "stdout",
     "output_type": "stream",
     "text": [
      "String    -->  Indian Army\n"
     ]
    }
   ],
   "source": [
    "var=\"Indian Army\"\n",
    "print (\"String    --> \", var)"
   ]
  },
  {
   "cell_type": "code",
   "execution_count": 11,
   "metadata": {},
   "outputs": [
    {
     "name": "stdout",
     "output_type": "stream",
     "text": [
      "   Snows fall and the white wings blow. The lone wolf dies but the pack survives             \n",
      "3\n",
      "['Snows', 'fall', 'and', 'the', 'white', 'wings', 'blow.', 'The', 'lone', 'wolf', 'dies', 'but', 'the', 'pack', 'survives']\n"
     ]
    }
   ],
   "source": [
    "string = '   Snows fall and the white wings blow. The lone wolf dies but the pack survives             '\n",
    "print(string)\n",
    "\n",
    "print(string.count('a')) #counts the number of 'a's in the string variable\n",
    "\n",
    "print(string.strip().split()) \n",
    "#The string is first stripped of all the beginning and leading whitespaces. \n",
    "#Then it is splitted such that all the whitespaces are removed and only the text is left in the form of a list\n"
   ]
  },
  {
   "cell_type": "code",
   "execution_count": 12,
   "metadata": {},
   "outputs": [
    {
     "name": "stdout",
     "output_type": "stream",
     "text": [
      "default start index, default stop index, step size is two—take every second element [1, 3, 5, 7, 9]\n",
      "default start index, default stop index, step size is three—take every third element [1, 4, 7]\n",
      "reads “start index of two, default stop index, step size is two—take every second element starting from index 1 [2, 4, 6, 8]\n",
      "String    -->  Indian Army\n",
      "var[::1]  -->  Indian Army\n",
      "var[::2]  -->  Ida ry\n",
      "var[::-1] -->  ymrA naidnI\n",
      "var[::-2] -->  yr adI\n",
      "var after reverse -->  ymrA naidnI\n"
     ]
    }
   ],
   "source": [
    "\"\"\"The extended slicing notation string[start:stop:step]\n",
    "uses three arguments start, stop, and step to carve out a subsequence.\n",
    "It accesses every step-th element between indices start (included) and stop (excluded).\n",
    "The double colon :: occurs if you drop the stop argument.\n",
    "In this case, Python will use the default value and doesn’t assume an artificial stop.\"\"\"\n",
    "\n",
    "lst = [1, 2, 3, 4, 5, 6, 7, 8, 9]\n",
    "\n",
    "print('default start index, default stop index, step size is two—take every second element', lst[::2])\n",
    "print('default start index, default stop index, step size is three—take every third element', lst[::3])\n",
    "print('reads “start index of two, default stop index, step size is two—take every second element starting from index 1',lst[1::2])\n",
    "\n",
    "var=\"Indian Army\"\n",
    "print (\"String    --> \", var)\n",
    "print (\"var[::1]  --> \", var[::1])\n",
    "print (\"var[::2]  --> \", var[::2])\n",
    "print (\"var[::-1] --> \", var[::-1])\n",
    "print (\"var[::-2] --> \", var[::-2])\n",
    "\n",
    "var=var[::-1] #In this from the reverse letters and strong characters start getting printed.\n",
    "print (\"var after reverse --> \", var)"
   ]
  },
  {
   "cell_type": "code",
   "execution_count": 13,
   "metadata": {},
   "outputs": [
    {
     "name": "stdout",
     "output_type": "stream",
     "text": [
      "0.20713344256368138\n",
      "0.9704219372511785\n",
      "0.0984\n"
     ]
    }
   ],
   "source": [
    "#random number printed between zero and 1. random\n",
    "import random as r\n",
    "print(r.random())\n",
    "print (r.random())\n",
    "print (round(r.random(),4))#round up to the first 4 decimal places"
   ]
  },
  {
   "cell_type": "code",
   "execution_count": 14,
   "metadata": {},
   "outputs": [
    {
     "name": "stdout",
     "output_type": "stream",
     "text": [
      "82\n",
      "-8\n",
      "-25\n"
     ]
    }
   ],
   "source": [
    "#generating a random integer, in a given range. randint\n",
    "import random as r\n",
    "print(r.randint(1,100))\n",
    "print(r.randint(-10,10))\n",
    "print(r.randint(-25,-17))\n",
    "\n",
    "\n"
   ]
  },
  {
   "cell_type": "code",
   "execution_count": 15,
   "metadata": {},
   "outputs": [
    {
     "name": "stdout",
     "output_type": "stream",
     "text": [
      "55.53922865874505\n",
      "87.96319291641487\n",
      "4.517644393397816\n",
      "3.6434337121095837\n",
      "-1.34\n"
     ]
    }
   ],
   "source": [
    "#importing a real number\n",
    "import random as r\n",
    "print (r.uniform(1, 100))\n",
    "print (r.uniform(1, 100))\n",
    "print (r.uniform (-10, 10))\n",
    "print (r.uniform (-10, 10))\n",
    "print (round(r.uniform (-10, 10),2))"
   ]
  },
  {
   "cell_type": "code",
   "execution_count": 16,
   "metadata": {},
   "outputs": [
    {
     "name": "stdout",
     "output_type": "stream",
     "text": [
      "[9, 7, 1, 8]\n",
      "[9, 7]\n",
      "[52, 12]\n",
      "[-11, -97, 64, 73, 70]\n",
      "[10, 11, 12, 13, 14, 15, 16, 17, 18, 19, 20, 21, 22]\n"
     ]
    }
   ],
   "source": [
    "import random as r\n",
    "\n",
    "A=[1, 2, 3, 4, 5, 6, 7, 8, 9, 10]\n",
    "\n",
    "print (r.sample(A, 4))\n",
    "print (r.sample(A, 2)) #2 numbers at random from A are chosen\n",
    "print (r.sample(range(0,100), 2))\n",
    "print (r.sample(range(-100,100), 5))\n",
    "lst = list(range(10,23))\n",
    "print(lst)"
   ]
  },
  {
   "cell_type": "code",
   "execution_count": 17,
   "metadata": {},
   "outputs": [
    {
     "name": "stdout",
     "output_type": "stream",
     "text": [
      "abcdefghijklmnopqrstuvwxyzABCDEFGHIJKLMNOPQRSTUVWXYZ\n",
      "['l', 'i', 'o', 'x', 'b', 'a']\n",
      "lioxba\n",
      "lioxba\n",
      "l+i+o+x+b+a\n",
      "l+i+o+x+b+a\n",
      "l*i*o*x*b*a\n",
      "l*i*o*x*b*a\n"
     ]
    }
   ],
   "source": [
    "import string as s\n",
    "import random as r\n",
    "\n",
    "print(s.ascii_letters)\n",
    "password = r.sample(s.ascii_letters,6) # A random sample of 6 letters is chosen from the ascii letters and stored in password as a list.\n",
    "print(password)\n",
    "password1 = \"\".join(password) #Convert the list stored into a string without anyspaces by joining the random sample.\n",
    "print(password1)\n",
    "print(password1)\n",
    "password2 = \"+\".join(password) #Convert the list stored into a string with + by joining the random sample.\n",
    "print(password2)\n",
    "print(password2)\n",
    "password3 = \"*\".join(password)\n",
    "print(password3)\n",
    "print(password3)"
   ]
  },
  {
   "cell_type": "code",
   "execution_count": 18,
   "metadata": {},
   "outputs": [
    {
     "name": "stdout",
     "output_type": "stream",
     "text": [
      "0123456789\n",
      "['6', '1', '5', '8', '2']\n",
      "61582\n",
      "['8', '9', '3', '4', '7']\n",
      "89347\n",
      "['7', '9', '6', '1', '2']\n",
      "79612\n"
     ]
    }
   ],
   "source": [
    "import string as s\n",
    "import random as r\n",
    "print(s.digits) #between 0 to nine, a random sample is chosen\n",
    "otp1 = r.sample(s.digits,5)\n",
    "print(otp1) \n",
    "otp1 = \"\".join(otp1)\n",
    "print(otp1)\n",
    "otp2 = r.sample(s.digits,5)\n",
    "print(otp2)\n",
    "otp2 = \"\".join(otp2)\n",
    "print(otp2)\n",
    "otp3 = r.sample(s.digits,5)\n",
    "print(otp3)\n",
    "otp3 = \"\".join(otp3)\n",
    "print(otp3)\n"
   ]
  },
  {
   "cell_type": "code",
   "execution_count": 19,
   "metadata": {},
   "outputs": [
    {
     "name": "stdout",
     "output_type": "stream",
     "text": [
      "0123456789\n",
      "abcdefghijklmnopqrstuvwxyzABCDEFGHIJKLMNOPQRSTUVWXYZ\n",
      "0123456789abcdefghijklmnopqrstuvwxyzABCDEFGHIJKLMNOPQRSTUVWXYZ\n",
      "['P', '4', 'T', 'k', 'r']\n",
      "P4Tkr\n",
      "['G', 'S', 'Q', 'H', 'M', 'E']\n",
      "GSQHME\n",
      "!@#$%^&*_-+=~[]{}|\n",
      "['r', 'W', 'i', 'D', '|', 'y', '0', '^']\n",
      "rWiD|y0^\n"
     ]
    }
   ],
   "source": [
    "import random as r\n",
    "import string as s\n",
    "\n",
    "print(s.digits)\n",
    "print(s.ascii_letters)\n",
    "\n",
    "print(s.digits+s.ascii_letters) \n",
    "\n",
    "mixPassword1 = r.sample(s.ascii_letters+s.digits,5) #The random sample is created using digits and ascii letters imported from the python module.\n",
    "print(mixPassword1)\n",
    "mixPassword1 = \"\".join(mixPassword1)\n",
    "print(mixPassword1)\n",
    "\n",
    "mixPassword2 = r.sample(s.ascii_letters+s.digits,6)\n",
    "print(mixPassword2)\n",
    "mixPassword2 = \"\".join(mixPassword2)\n",
    "print(mixPassword2)\n",
    "\n",
    "splChar = \"!@#$%^&*_-+=~[]{}|\" #Writing a random sample of special characters.\n",
    "\n",
    "print(splChar)\n",
    "\n",
    "mixPassword3 = r.sample(s.digits+splChar+s.ascii_letters,8)\n",
    "print(mixPassword3)\n",
    "mixPassword3 = \"\".join(mixPassword3)\n",
    "print(mixPassword3)\n"
   ]
  },
  {
   "cell_type": "code",
   "execution_count": 20,
   "metadata": {},
   "outputs": [
    {
     "name": "stdout",
     "output_type": "stream",
     "text": [
      "malaylam\n"
     ]
    }
   ],
   "source": [
    "string1 = 'malyalam'\n",
    "print(string1[::-1])\n"
   ]
  },
  {
   "cell_type": "code",
   "execution_count": 21,
   "metadata": {},
   "outputs": [
    {
     "name": "stdout",
     "output_type": "stream",
     "text": [
      "Abhinav\n",
      "7865\n",
      "@#$\n"
     ]
    }
   ],
   "source": [
    "i = 0\n",
    "list1 = ['Abhinav',7865,'@#$']\n",
    "\n",
    "while i<len(list1):\n",
    "    print(list1[i])\n",
    "    i+=1\n"
   ]
  },
  {
   "cell_type": "code",
   "execution_count": 22,
   "metadata": {},
   "outputs": [
    {
     "name": "stdout",
     "output_type": "stream",
     "text": [
      "3\n"
     ]
    }
   ],
   "source": [
    "list1 = ['Abhinav',67,'@#']\n",
    "print(len(list1)) #Tells us the number of items in the list.\n"
   ]
  },
  {
   "cell_type": "code",
   "execution_count": 23,
   "metadata": {},
   "outputs": [
    {
     "name": "stdout",
     "output_type": "stream",
     "text": [
      "Original List:  ['Pratham', 'Sharma', 3.14, 3]\n",
      "Pratham\n",
      "Sharma\n",
      "3.14\n",
      "3\n",
      "Original List -->  ['Pratham', 'Sharma', 3.14, 3]\n",
      "Pratham\n",
      "Sharma\n",
      "3.14\n",
      "3\n"
     ]
    }
   ],
   "source": [
    "L = [\"Pratham\",  'Sharma', 3.14,  3 ]\n",
    "print (\"Original List: \", L)\n",
    "for i in range(0, len(L)):\n",
    "\tprint (L[i])\n",
    "#the below code also works. So use it.\n",
    "L = [\"Pratham\",  'Sharma', 3.14,  3 ]\n",
    "print (\"Original List --> \", L)\n",
    "for s in L:\n",
    "\tprint (s)"
   ]
  },
  {
   "cell_type": "code",
   "execution_count": 24,
   "metadata": {},
   "outputs": [
    {
     "name": "stdout",
     "output_type": "stream",
     "text": [
      "Original List       -->  ['Pratham', 'Sharma', 3.14, 3]\n",
      "List After Adding   -->  ['Pratham', 'Sharma', 3.14, 3, 'Rahul']\n",
      "List After Deleting -->  ['Pratham', 3.14, 3, 'Rahul']\n"
     ]
    }
   ],
   "source": [
    "L = [\"Pratham\",  'Sharma', 3.14,  3 ]\n",
    "print (\"Original List       --> \", L)\n",
    "\n",
    "L.append(\"Rahul\")\n",
    "print (\"List After Adding   --> \", L)\n",
    "\n",
    "del L[1]\n",
    "print (\"List After Deleting --> \", L)   #sharma will be removed"
   ]
  },
  {
   "cell_type": "code",
   "execution_count": 25,
   "metadata": {},
   "outputs": [
    {
     "name": "stdout",
     "output_type": "stream",
     "text": [
      "Original List -->  [3, 6, 9, 12, 5, 3, 2]\n",
      "The sum is  40\n",
      "The average is  5.714285714285714\n",
      "Average -->  5\n",
      "L * 3   -->  [3, 6, 9, 12, 5, 3, 2, 3, 6, 9, 12, 5, 3, 2, 3, 6, 9, 12, 5, 3, 2]\n",
      "L + L   -->  [3, 6, 9, 12, 5, 3, 2, 3, 6, 9, 12, 5, 3, 2]\n"
     ]
    }
   ],
   "source": [
    "L=[3, 6, 9, 12, 5, 3, 2]\n",
    "print (\"Original List --> \", L)\n",
    "print('The sum is ', sum(L))\n",
    "print('The average is ', sum(L)/len(L))\n",
    "print (\"Average --> \", sum(L)//len(L))\n",
    "\n",
    "print (\"L * 3   --> \", L * 3)     # Every element gets added to the list 3 times. This does not mean that every element gets multiplied by 3\n",
    "print (\"L + L   --> \", L + L)     # Every element get dets added to the list again."
   ]
  },
  {
   "cell_type": "code",
   "execution_count": 26,
   "metadata": {},
   "outputs": [
    {
     "name": "stdout",
     "output_type": "stream",
     "text": [
      "Original List -->  [3, 6, 9, 12, 5, 3, 2]\n",
      "max -->  12\n",
      "min -->  2\n",
      "\n",
      "Before Sort            -->  [3, 6, 9, 12, 5, 3, 2]\n",
      "After Sort (Asending)  -->  [2, 3, 3, 5, 6, 9, 12]\n",
      "After Sort (Desending) -->  [12, 9, 6, 5, 3, 3, 2]\n"
     ]
    }
   ],
   "source": [
    "L=[3, 6, 9, 12, 5, 3, 2]\n",
    "print (\"Original List --> \", L)\n",
    "\n",
    "print (\"max --> \", max(L))\n",
    "print (\"min --> \", min(L))\n",
    "\n",
    "print (\"\\nBefore Sort            --> \", L)\n",
    "L.sort()\n",
    "\n",
    "print (\"After Sort (Asending)  --> \", L)\n",
    "\n",
    "L.sort(reverse=True) #Always do this to make the reverse happen when it is required for it to happen.\n",
    "print (\"After Sort (Desending) --> \", L)"
   ]
  },
  {
   "cell_type": "code",
   "execution_count": 27,
   "metadata": {},
   "outputs": [
    {
     "name": "stdout",
     "output_type": "stream",
     "text": [
      "L1 -->  [3, 6, 9]\n",
      "L2 -->  [12, 5, 3, 2]\n",
      "L3 -->  [3, 6, 9, 12, 5, 3, 2]\n",
      "\n",
      "L3[2:]  -->  [9, 12, 5, 3, 2]\n",
      "L3[2:5] -->  [9, 12, 5]\n",
      "L3[:-1] -->  [3, 6, 9, 12, 5, 3]\n",
      "L3[::2] -->  [3, 9, 5, 2]\n"
     ]
    }
   ],
   "source": [
    "L1 = [3, 6, 9]\n",
    "L2 = [12, 5, 3, 2]\n",
    "L3 = L1 + L2\n",
    "print (\"L1 --> \",L1)\n",
    "print (\"L2 --> \",L2)\n",
    "print (\"L3 --> \",L3) #elements are appended at the end of the list [3, 6, 9, 12, 5, 3, 2]\n",
    "\n",
    "print (\"\\nL3[2:]  --> \",L3[2:])\n",
    "print (\"L3[2:5] --> \",L3[2:5])\n",
    "print (\"L3[:-1] --> \",L3[:-1]) #This doesn't mean that elements start apearing from the end, but it signifies the end point.\n",
    "print (\"L3[::2] --> \",L3[::2])\n"
   ]
  },
  {
   "cell_type": "code",
   "execution_count": 28,
   "metadata": {},
   "outputs": [
    {
     "name": "stdout",
     "output_type": "stream",
     "text": [
      "Original List -->  [12, 5, 3, 2, 7]\n",
      "After Multiply with constant -->  [60, 25, 15, 10, 35]\n"
     ]
    }
   ],
   "source": [
    "#Multiplying every element in the list\n",
    "L = [12, 5, 3, 2, 7]\n",
    "print (\"Original List --> \", L)\n",
    "\n",
    "newL = [ i * 5 for i in L ]\n",
    "print (\"After Multiply with constant --> \", newL)"
   ]
  },
  {
   "cell_type": "code",
   "execution_count": 29,
   "metadata": {},
   "outputs": [
    {
     "name": "stdout",
     "output_type": "stream",
     "text": [
      "Original List -->  True\n",
      "Original List -->  False\n",
      "Original List -->  True\n",
      "Present\n",
      "Present\n"
     ]
    }
   ],
   "source": [
    "#just simply use conditional statements and == with booleans. \n",
    "#Main keywords to be used here are, [ if, in , ==, True ,False]. These will help you sove things.\n",
    "L=[3, 6, 9, 12, 5, 3, 2]\n",
    "print (\"Original List --> \", 6 in L) #booleans are evaluated\n",
    "print (\"Original List --> \", 10 in L) #booleans are evaluated\n",
    "print (\"Original List --> \", 12 in L) #Booleans are evaluated\n",
    "\n",
    "if (6 in L) == True:\n",
    "\tprint (\"Present\")\n",
    "else:\n",
    "\tprint (\"Not Present\")\n",
    "\n",
    "if 10 in L == False:\n",
    "\tprint (\"Not Present\")\n",
    "else:\n",
    "\tprint (\"Present\")\n"
   ]
  },
  {
   "cell_type": "code",
   "execution_count": 30,
   "metadata": {},
   "outputs": [
    {
     "name": "stdout",
     "output_type": "stream",
     "text": [
      "Dictionary      -->  {1: 8.9, 2: 5.6, 4: 6.7, 7: 9.1, 8: 5.3}\n",
      "Num of elements -->  5\n",
      "CGPA of 1       -->  8.9\n",
      "CGPA of 4       -->  6.7\n",
      "CGPA of 7       -->  9.1\n"
     ]
    },
    {
     "ename": "KeyError",
     "evalue": "3",
     "output_type": "error",
     "traceback": [
      "\u001b[1;31m---------------------------------------------------------------------------\u001b[0m",
      "\u001b[1;31mKeyError\u001b[0m                                  Traceback (most recent call last)",
      "\u001b[1;32m~\\AppData\\Local\\Temp/ipykernel_1548/3115427671.py\u001b[0m in \u001b[0;36m<module>\u001b[1;34m\u001b[0m\n\u001b[0;32m      7\u001b[0m \u001b[0mprint\u001b[0m \u001b[1;33m(\u001b[0m\u001b[1;34m\"CGPA of 4       --> \"\u001b[0m\u001b[1;33m,\u001b[0m \u001b[0mCGPA\u001b[0m\u001b[1;33m[\u001b[0m\u001b[1;36m4\u001b[0m\u001b[1;33m]\u001b[0m\u001b[1;33m)\u001b[0m\u001b[1;33m\u001b[0m\u001b[1;33m\u001b[0m\u001b[0m\n\u001b[0;32m      8\u001b[0m \u001b[0mprint\u001b[0m \u001b[1;33m(\u001b[0m\u001b[1;34m\"CGPA of 7       --> \"\u001b[0m\u001b[1;33m,\u001b[0m \u001b[0mCGPA\u001b[0m\u001b[1;33m[\u001b[0m\u001b[1;36m7\u001b[0m\u001b[1;33m]\u001b[0m\u001b[1;33m)\u001b[0m\u001b[1;33m\u001b[0m\u001b[1;33m\u001b[0m\u001b[0m\n\u001b[1;32m----> 9\u001b[1;33m \u001b[0mprint\u001b[0m \u001b[1;33m(\u001b[0m\u001b[1;34m\"CGPA of 3       --> \"\u001b[0m\u001b[1;33m,\u001b[0m \u001b[0mCGPA\u001b[0m\u001b[1;33m[\u001b[0m\u001b[1;36m3\u001b[0m\u001b[1;33m]\u001b[0m\u001b[1;33m)\u001b[0m\u001b[1;33m\u001b[0m\u001b[1;33m\u001b[0m\u001b[0m\n\u001b[0m",
      "\u001b[1;31mKeyError\u001b[0m: 3"
     ]
    }
   ],
   "source": [
    "#DICTIONARY\n",
    "CGPA={1:8.9, 2:5.6, 4:6.7, 7:9.1, 8:5.3} #The keys given here are 1,2,4,7,8\n",
    "print (\"Dictionary      --> \", CGPA)\n",
    "print (\"Num of elements --> \", len(CGPA))\n",
    "\n",
    "print (\"CGPA of 1       --> \", CGPA[1])\n",
    "print (\"CGPA of 4       --> \", CGPA[4])\n",
    "print (\"CGPA of 7       --> \", CGPA[7])\n",
    "print (\"CGPA of 3       --> \", CGPA[3])"
   ]
  },
  {
   "cell_type": "code",
   "execution_count": null,
   "metadata": {},
   "outputs": [],
   "source": [
    "#Traversing a dictionary\n",
    "CGPA={1:8.9, 2:5.6, 4:6.7, 7:9.1, 8:5.3}\n",
    "for i in CGPA:\n",
    "    print(CGPA[i])\n",
    "print(CGPA)\n",
    "print(list(CGPA.keys()))\n",
    "print(list(CGPA.values()))\n"
   ]
  },
  {
   "cell_type": "code",
   "execution_count": null,
   "metadata": {},
   "outputs": [],
   "source": [
    "CGPA={1:8.9, 2:5.6, 4:6.7, 7:9.1, 8:5.3}\n",
    "print (\"Dictionary --> \", CGPA)\n",
    "print (\"Keys       --> \", list(CGPA.keys()))\n",
    "print (\"Values     --> \", list(CGPA.values()))"
   ]
  },
  {
   "cell_type": "code",
   "execution_count": null,
   "metadata": {},
   "outputs": [],
   "source": [
    "CGPA={1:8.9,2:5.6,4:6.7,7:9.1,8:5.3}\n",
    "print(CGPA)\n",
    "CGPA[4]=9.2\n",
    "print(CGPA)\n",
    "CGPA[3,5]=34.9,90.1 #a tuple is added as a key So if we want to add a new term, we have to have to single append a key and its value\n",
    "print(CGPA)\n",
    "del CGPA[1]\n",
    "print(CGPA)\n",
    "CGPA.clear() #Clears the CGPA in its entirety\n",
    "print(CGPA)\n",
    "del CGPA"
   ]
  },
  {
   "cell_type": "code",
   "execution_count": null,
   "metadata": {},
   "outputs": [],
   "source": [
    "#CHECKING FOR A KEY IN A DICTIONARY\n",
    "#Just like how we did while checking an element in a list [Just do this \"key_name in dictionary_name\" in the print statement]\n",
    "CGPA={1:8.9, 2:5.6, 4:6.7, 7:9.1, 8:5.3}\n",
    "print (\"Original Dictionary --> \", CGPA)\n",
    "print (\"Is Key 2 Present    --> \", 2 in CGPA)\n",
    "print (\"Is Key 9 Present    --> \", 9 in CGPA)"
   ]
  },
  {
   "cell_type": "code",
   "execution_count": null,
   "metadata": {},
   "outputs": [],
   "source": [
    "HomeTown={\"Prashant\":\"Delhi\", \"Govind\":\"Gwalior\", \"Anil\":\"Morena\", \"Pankaj\":\"Agra\"}\n",
    "print (\"Original Dictionary --> \", HomeTown)\n",
    "print (\"Home Town of Prashant is --> \", HomeTown[\"Prashant\"])\n",
    "print (\"Home Town of Govind is   --> \", HomeTown[\"Govind\"])\n",
    "print (\"Home Town of Anil is     --> \", HomeTown[\"Anil\"])\n",
    "print (\"Home Town of Pankaj is   --> \", HomeTown[\"Pankaj\"])"
   ]
  },
  {
   "cell_type": "code",
   "execution_count": null,
   "metadata": {},
   "outputs": [],
   "source": [
    "HomeTown={\"Prashant\":\"Delhi\", \"Govind\":\"Gwalior\", \"Anil\":\"Morena\", \"Pankaj\":\"Agra\"}\n",
    "print (\"Original Dictionary --> \", HomeTown)\n",
    "\n",
    "for d in HomeTown:\n",
    "\tprint (\"Home Town of \", d, \" is  --> \", HomeTown[d])"
   ]
  },
  {
   "cell_type": "code",
   "execution_count": null,
   "metadata": {},
   "outputs": [],
   "source": [
    "T = (\"Pratham\", 'Sharma', 3.14, 3)\n",
    "print(T)\n",
    "type(T)\n",
    "len(T) #number of items in the tuple"
   ]
  },
  {
   "cell_type": "code",
   "execution_count": null,
   "metadata": {},
   "outputs": [],
   "source": [
    "#Converting a list to a tuple\n",
    "\n",
    "list1 = [\"Pratham\", 'Sharma', 3.14, 3]\n",
    "print(list1)\n",
    "tuple(list1)\n",
    "\n",
    "#Value will only be converted into a tuple and a the entire list wont be converted to a tuple and stored in list1\n"
   ]
  },
  {
   "cell_type": "code",
   "execution_count": 31,
   "metadata": {},
   "outputs": [
    {
     "name": "stdout",
     "output_type": "stream",
     "text": [
      "('Pratham', 'Sharma', 3.14, 3)\n",
      "Pratham\n",
      "Sharma\n",
      "3.14\n",
      "3\n"
     ]
    }
   ],
   "source": [
    "T = (\"Pratham\", 'Sharma', 3.14, 3)\n",
    "print(T)\n",
    "\n",
    "for i in T:\n",
    "    print(i)\n",
    "#just like a list whwere we had to do like this\n",
    "    # L = [\"Pratham\",  'Sharma', 3.14,  3 ]\n",
    "    # print (\"Original List --> \", L)\n",
    "    # for s in L:\n",
    "    # print (s)"
   ]
  },
  {
   "cell_type": "code",
   "execution_count": 32,
   "metadata": {},
   "outputs": [
    {
     "data": {
      "text/plain": [
       "(3, 4, 5, 6, 7, 8, 3, 4, 5, 6, 7, 8)"
      ]
     },
     "execution_count": 32,
     "metadata": {},
     "output_type": "execute_result"
    }
   ],
   "source": [
    "T = (3,4,5,6,7,8)\n",
    "T*5 #values are repeated 5 times\n",
    "T+T #values are repeated 2 times\n"
   ]
  },
  {
   "cell_type": "code",
   "execution_count": 33,
   "metadata": {},
   "outputs": [
    {
     "data": {
      "text/plain": [
       "[15, 20, 25, 30, 35, 40]"
      ]
     },
     "execution_count": 33,
     "metadata": {},
     "output_type": "execute_result"
    }
   ],
   "source": [
    "T = (3,4,5,6,7,8)\n",
    "\n",
    "newT = [i*5 for i in T]\n",
    "\n",
    "newT"
   ]
  },
  {
   "cell_type": "code",
   "execution_count": 34,
   "metadata": {},
   "outputs": [
    {
     "name": "stdout",
     "output_type": "stream",
     "text": [
      "T     --> (3, 6, 9, 12, 5, 3, 2)\n",
      "T[1]  --> 6\n",
      "T[2]  --> 9\n",
      "T[-1] --> 2\n",
      "T[-2] --> 3\n"
     ]
    }
   ],
   "source": [
    "T = (3, 6, 9, 12, 5, 3, 2)\n",
    "print (\"T     -->\", T)\n",
    "\n",
    "print (\"T[1]  -->\", T[1])\n",
    "print (\"T[2]  -->\", T[2])\n",
    "print (\"T[-1] -->\", T[-1])\n",
    "print (\"T[-2] -->\", T[-2])"
   ]
  },
  {
   "cell_type": "code",
   "execution_count": 35,
   "metadata": {},
   "outputs": [
    {
     "name": "stdout",
     "output_type": "stream",
     "text": [
      "T        --> (3, 6, 9, 12, 5, 3, 2)\n",
      "T[1:3]   --> (6, 9)\n",
      "T[2:]    --> (9, 12, 5, 3, 2)\n",
      "T[2:5]   --> (9, 12, 5)\n",
      "T[:2]    --> (3, 6)\n",
      "T[:-1]   --> (3, 6, 9, 12, 5, 3)\n",
      "T[-4:-1] --> (12, 5, 3)\n"
     ]
    }
   ],
   "source": [
    "# Example 2:\n",
    "T = (3, 6, 9, 12, 5, 3, 2)\n",
    "print (\"T        -->\", T)\n",
    "\n",
    "print (\"T[1:3]   -->\", T[1:3])\n",
    "print (\"T[2:]    -->\", T[2:])\n",
    "print (\"T[2:5]   -->\", T[2:5])\n",
    "print (\"T[:2]    -->\", T[:2])\n",
    "print (\"T[:-1]   -->\", T[:-1])\n",
    "print (\"T[-4:-1] -->\", T[-4:-1])"
   ]
  },
  {
   "cell_type": "code",
   "execution_count": 36,
   "metadata": {},
   "outputs": [
    {
     "name": "stdout",
     "output_type": "stream",
     "text": [
      "40\n",
      "12\n",
      "5.714285714285714\n",
      "5\n",
      "2\n"
     ]
    }
   ],
   "source": [
    "T = (3, 6, 9, 12, 5, 3, 2)\n",
    "print(sum(T))\n",
    "print(max(T))\n",
    "print(sum(T)/len(T))\n",
    "print(sum(T)//len(T))\n",
    "print(min(T))"
   ]
  },
  {
   "cell_type": "code",
   "execution_count": 37,
   "metadata": {},
   "outputs": [
    {
     "name": "stdout",
     "output_type": "stream",
     "text": [
      "T   --> ('Ram', 'Shyam', 'Human', 'Ant')\n",
      "Max --> Shyam\n",
      "Min --> Ant\n"
     ]
    }
   ],
   "source": [
    "#String Tuple\n",
    "T = (\"Ram\", \"Shyam\", \"Human\", \"Ant\")      # String Tuple\n",
    "print (\"T   -->\", T)\n",
    "print (\"Max -->\", max(T))\n",
    "print (\"Min -->\", min(T))"
   ]
  },
  {
   "cell_type": "code",
   "execution_count": 38,
   "metadata": {},
   "outputs": [
    {
     "data": {
      "text/plain": [
       "(3, 6, 9, 12, 5, 3, 2)"
      ]
     },
     "execution_count": 38,
     "metadata": {},
     "output_type": "execute_result"
    }
   ],
   "source": [
    "#tWO TUPLES ARE COMPLETELY MERGED. \n",
    "T1 = (3, 6, 9)\n",
    "T2 = (12, 5, 3, 2)\n",
    "T1+T2"
   ]
  },
  {
   "cell_type": "code",
   "execution_count": 39,
   "metadata": {},
   "outputs": [
    {
     "name": "stdout",
     "output_type": "stream",
     "text": [
      "T1 --> (3, 6, 9)\n",
      "T2 --> (12, 5, 3, 2)\n",
      "T3 --> (6, 5, 3)\n",
      "T4 --> (3, 12)\n"
     ]
    }
   ],
   "source": [
    "#Merging of a part of a tuple\n",
    "T1 = (3, 6, 9)\n",
    "T2 = (12, 5, 3, 2)\n",
    "\n",
    "\n",
    "\n",
    "print (\"T1 -->\", T1)\n",
    "print (\"T2 -->\", T2)\n",
    "\n",
    "T3 = T1[1:2] + T2[1:3]\n",
    "print (\"T3 -->\", T3)\n",
    "\n",
    "T4 = T1[:-2] + T2[:-3]\n",
    "print (\"T4 -->\", T4)"
   ]
  },
  {
   "cell_type": "code",
   "execution_count": 40,
   "metadata": {},
   "outputs": [
    {
     "name": "stdout",
     "output_type": "stream",
     "text": [
      "T       --> (3, 6, 9, 12, 5, 3, 2)\n",
      "6  in T --> True\n",
      "10 in T --> False\n",
      "12 in T --> True\n"
     ]
    }
   ],
   "source": [
    "T = (3, 6, 9, 12, 5, 3, 2) #sEARCHING IN A TUPLE. JUST LIKE IN A DICTIONARY AND LIST\n",
    "print (\"T       -->\", T)\n",
    "\n",
    "print (\"6  in T -->\", 6 in T)\n",
    "print (\"10 in T -->\", 10 in T)\n",
    "print (\"12 in T -->\", 12 in T)"
   ]
  },
  {
   "cell_type": "code",
   "execution_count": 41,
   "metadata": {},
   "outputs": [
    {
     "name": "stdout",
     "output_type": "stream",
     "text": [
      "T --> ('Pratham', 'Sharma', 3.14, 3)\n"
     ]
    },
    {
     "ename": "TypeError",
     "evalue": "'tuple' object does not support item assignment",
     "output_type": "error",
     "traceback": [
      "\u001b[1;31m---------------------------------------------------------------------------\u001b[0m",
      "\u001b[1;31mTypeError\u001b[0m                                 Traceback (most recent call last)",
      "\u001b[1;32m~\\AppData\\Local\\Temp/ipykernel_1548/2987330048.py\u001b[0m in \u001b[0;36m<module>\u001b[1;34m\u001b[0m\n\u001b[0;32m      2\u001b[0m \u001b[0mprint\u001b[0m \u001b[1;33m(\u001b[0m\u001b[1;34m\"T -->\"\u001b[0m\u001b[1;33m,\u001b[0m \u001b[0mT\u001b[0m\u001b[1;33m)\u001b[0m\u001b[1;33m\u001b[0m\u001b[1;33m\u001b[0m\u001b[0m\n\u001b[0;32m      3\u001b[0m \u001b[1;33m\u001b[0m\u001b[0m\n\u001b[1;32m----> 4\u001b[1;33m \u001b[0mT\u001b[0m\u001b[1;33m[\u001b[0m\u001b[1;36m2\u001b[0m\u001b[1;33m]\u001b[0m \u001b[1;33m=\u001b[0m \u001b[1;36m900\u001b[0m               \u001b[1;31m# Error; 'tuple' object does not support item assignment\u001b[0m\u001b[1;33m\u001b[0m\u001b[1;33m\u001b[0m\u001b[0m\n\u001b[0m\u001b[0;32m      5\u001b[0m \u001b[0mprint\u001b[0m \u001b[1;33m(\u001b[0m\u001b[1;34m\"T -->\"\u001b[0m\u001b[1;33m,\u001b[0m \u001b[0mT\u001b[0m\u001b[1;33m)\u001b[0m\u001b[1;33m\u001b[0m\u001b[1;33m\u001b[0m\u001b[0m\n\u001b[0;32m      6\u001b[0m \u001b[1;33m\u001b[0m\u001b[0m\n",
      "\u001b[1;31mTypeError\u001b[0m: 'tuple' object does not support item assignment"
     ]
    }
   ],
   "source": [
    "T = (\"Pratham\", 'Sharma', 3.14, 3)\n",
    "print (\"T -->\", T)\n",
    "\n",
    "T[2] = 900               # Error; 'tuple' object does not support item assignment\n",
    "print (\"T -->\", T)\n",
    "\n",
    "#Tuples are unchangeable. We cannot add items to it."
   ]
  },
  {
   "cell_type": "code",
   "execution_count": 42,
   "metadata": {},
   "outputs": [
    {
     "name": "stdout",
     "output_type": "stream",
     "text": [
      "T         --> ('Pratham', 'Sharma', 3.14, 3)\n",
      "After Add --> ('Pratham', 'Sharma', 3.14, 3, 9.8)\n"
     ]
    }
   ],
   "source": [
    "T = (\"Pratham\", 'Sharma', 3.14, 3)\n",
    "print (\"T         -->\", T)\n",
    "\n",
    "T1 = list(T) #Convert the tuple to a list and store it in a new variable\n",
    "T1.append(9.8) #Add a new item to the list\n",
    "T = tuple(T1)\n",
    "\n",
    "print (\"After Add -->\", T)"
   ]
  },
  {
   "cell_type": "code",
   "execution_count": 43,
   "metadata": {},
   "outputs": [
    {
     "name": "stdout",
     "output_type": "stream",
     "text": [
      "T            --> ('Pratham', 'Sharma', 3.14, 3)\n"
     ]
    },
    {
     "ename": "TypeError",
     "evalue": "'tuple' object doesn't support item deletion",
     "output_type": "error",
     "traceback": [
      "\u001b[1;31m---------------------------------------------------------------------------\u001b[0m",
      "\u001b[1;31mTypeError\u001b[0m                                 Traceback (most recent call last)",
      "\u001b[1;32m~\\AppData\\Local\\Temp/ipykernel_1548/2475115645.py\u001b[0m in \u001b[0;36m<module>\u001b[1;34m\u001b[0m\n\u001b[0;32m      2\u001b[0m \u001b[0mprint\u001b[0m \u001b[1;33m(\u001b[0m\u001b[1;34m\"T            -->\"\u001b[0m\u001b[1;33m,\u001b[0m \u001b[0mT\u001b[0m\u001b[1;33m)\u001b[0m\u001b[1;33m\u001b[0m\u001b[1;33m\u001b[0m\u001b[0m\n\u001b[0;32m      3\u001b[0m \u001b[1;33m\u001b[0m\u001b[0m\n\u001b[1;32m----> 4\u001b[1;33m \u001b[1;32mdel\u001b[0m \u001b[0mT\u001b[0m\u001b[1;33m[\u001b[0m\u001b[1;36m1\u001b[0m\u001b[1;33m]\u001b[0m\u001b[1;33m\u001b[0m\u001b[1;33m\u001b[0m\u001b[0m\n\u001b[0m\u001b[0;32m      5\u001b[0m \u001b[1;33m\u001b[0m\u001b[0m\n\u001b[0;32m      6\u001b[0m \u001b[0mprint\u001b[0m \u001b[1;33m(\u001b[0m\u001b[1;34m\"After Delete -->\"\u001b[0m\u001b[1;33m,\u001b[0m \u001b[0mT\u001b[0m\u001b[1;33m)\u001b[0m\u001b[1;33m\u001b[0m\u001b[1;33m\u001b[0m\u001b[0m\n",
      "\u001b[1;31mTypeError\u001b[0m: 'tuple' object doesn't support item deletion"
     ]
    }
   ],
   "source": [
    "T = (\"Pratham\", 'Sharma', 3.14, 3)\n",
    "print (\"T            -->\", T)\n",
    "\n",
    "del T[1]\n",
    "\n",
    "print (\"After Delete -->\", T)"
   ]
  },
  {
   "cell_type": "code",
   "execution_count": 44,
   "metadata": {},
   "outputs": [],
   "source": [
    "#Hence item cannot be deleted from a tuple"
   ]
  },
  {
   "cell_type": "code",
   "execution_count": 45,
   "metadata": {},
   "outputs": [
    {
     "name": "stdout",
     "output_type": "stream",
     "text": [
      "T            --> ('Pratham', 'Sharma', 3.14, 3)\n",
      "After Delete --> ('Pratham', 3.14, 3)\n"
     ]
    }
   ],
   "source": [
    "T = (\"Pratham\", 'Sharma', 3.14, 3)\n",
    "print (\"T            -->\", T)\n",
    "\n",
    "T1 = list(T)\n",
    "del T1[1]\n",
    "T = tuple(T1)\n",
    "\n",
    "print (\"After Delete -->\", T)"
   ]
  },
  {
   "cell_type": "markdown",
   "metadata": {},
   "source": [
    "Hence to make any changes to a tuple, convert it into a list, make the changes and convert it back to a tuple and store it in the same variable"
   ]
  },
  {
   "cell_type": "code",
   "execution_count": 46,
   "metadata": {},
   "outputs": [
    {
     "name": "stdout",
     "output_type": "stream",
     "text": [
      "Original set           -->  {'B', 'D', 'F', 'A', 'E', 'C'}\n",
      "Num of elements in set -->  6\n"
     ]
    }
   ],
   "source": [
    "s = set(['A','B','C','D','E','F'])\n",
    "print (\"Original set           --> \", s)\n",
    "print (\"Num of elements in set --> \", len(s))"
   ]
  },
  {
   "cell_type": "code",
   "execution_count": 48,
   "metadata": {},
   "outputs": [
    {
     "name": "stdout",
     "output_type": "stream",
     "text": [
      "Original set a      -->  {'E', 'F', 'B', 'A'}\n",
      "Original set b      -->  {'D', 'E', 'C', 'A'}\n",
      "Union of a and b    -->  {'B', 'D', 'F', 'A', 'E', 'C'}\n",
      "Intersection of a,b -->  {'E', 'A'}\n",
      "Difference a - b    -->  {'B', 'F'}\n",
      "Difference a - b    -->  {'B', 'F'}\n",
      "Difference b - a    -->  {'C', 'D'}\n",
      "Difference b - a    -->  {'C', 'D'}\n",
      "Symetric Diff a - b -->  {'B', 'D', 'F', 'C'}\n",
      "Symetric Diff b - a -->  {'B', 'D', 'F', 'C'}\n"
     ]
    }
   ],
   "source": [
    "a = set(['A', 'B', 'E', 'F' ])\n",
    "b = set([\"A\", \"C\", \"D\", \"E\"])\n",
    "print (\"Original set a      --> \", a)\n",
    "print (\"Original set b      --> \", b)\n",
    "print (\"Union of a and b    --> \", a.union(b))\n",
    "print (\"Intersection of a,b --> \", a.intersection(b))\n",
    "print (\"Difference a - b    --> \", a-b)\n",
    "print (\"Difference a - b    --> \", a.difference(b))\n",
    "print (\"Difference b - a    --> \", b-a)\n",
    "print (\"Difference b - a    --> \", b.difference(a))\n",
    "print (\"Symetric Diff a - b --> \", a.symmetric_difference(b)) \n",
    "#This gives the elements which will be removed on subtracting the sets from each other\n",
    "print (\"Symetric Diff b - a --> \", b.symmetric_difference(a))\n"
   ]
  },
  {
   "cell_type": "code",
   "execution_count": 50,
   "metadata": {},
   "outputs": [
    {
     "name": "stdout",
     "output_type": "stream",
     "text": [
      "Original set a       -->  {'E', 'F', 'B', 'A'}\n",
      "Set After Adding (D) -->  {'B', 'D', 'F', 'A', 'E'}\n",
      "Set After Adding (D) -->  {'B', 'D', 'F', 'A', 'E'}\n",
      "Set After Deleting(D)-->  {'B', 'F', 'A', 'E'}\n",
      "Set After pop        -->  {'F', 'A', 'E'}\n"
     ]
    }
   ],
   "source": [
    "a = set(['A', 'B', 'E', 'F' ])\n",
    "print (\"Original set a       --> \", a)\n",
    "a.add('D')\n",
    "print (\"Set After Adding (D) --> \", a)\n",
    "a.add('D')\n",
    "print (\"Set After Adding (D) --> \", a)\n",
    "a.remove('D')\n",
    "print (\"Set After Deleting(D)--> \", a)\n",
    "a.pop()\n",
    "print (\"Set After pop        --> \", a)\n",
    "#pop removes a random element and returns the set without that element"
   ]
  },
  {
   "cell_type": "markdown",
   "metadata": {},
   "source": [
    "### ADDITIONAL METHODS AND TECHNIQUES FOR LISTS"
   ]
  },
  {
   "cell_type": "code",
   "execution_count": 51,
   "metadata": {},
   "outputs": [
    {
     "data": {
      "text/plain": [
       "['Michael Jackson', 10.2, 'pop', 10]"
      ]
     },
     "execution_count": 51,
     "metadata": {},
     "output_type": "execute_result"
    }
   ],
   "source": [
    "L = [ \"Michael Jackson\", 10.2]\n",
    "L.extend(['pop', 10])\n",
    "L"
   ]
  },
  {
   "cell_type": "code",
   "execution_count": 52,
   "metadata": {},
   "outputs": [
    {
     "data": {
      "text/plain": [
       "['Michael Jackson', 10.2, 'pop', 10, ['a', 'b']]"
      ]
     },
     "execution_count": 52,
     "metadata": {},
     "output_type": "execute_result"
    }
   ],
   "source": [
    "L.append(['a','b'])\n",
    "L"
   ]
  },
  {
   "cell_type": "code",
   "execution_count": 53,
   "metadata": {},
   "outputs": [
    {
     "data": {
      "text/plain": [
       "['hard', 'rock']"
      ]
     },
     "execution_count": 53,
     "metadata": {},
     "output_type": "execute_result"
    }
   ],
   "source": [
    "'hard rock'.split()"
   ]
  },
  {
   "cell_type": "code",
   "execution_count": 54,
   "metadata": {},
   "outputs": [
    {
     "name": "stdout",
     "output_type": "stream",
     "text": [
      "A: ['hard rock', 10, 1.2]\n",
      "B: ['hard rock', 10, 1.2]\n"
     ]
    }
   ],
   "source": [
    "# Copy (copy by reference) the list A\n",
    "\n",
    "A = [\"hard rock\", 10, 1.2]\n",
    "B = A\n",
    "print('A:', A)\n",
    "print('B:', B)"
   ]
  },
  {
   "cell_type": "markdown",
   "metadata": {},
   "source": [
    "### ADDITIONAL METHODS AND TECHNIQUES FOR DICTIONARIES"
   ]
  },
  {
   "cell_type": "code",
   "execution_count": 55,
   "metadata": {},
   "outputs": [
    {
     "data": {
      "text/plain": [
       "{'Thriller': '1982',\n",
       " 'Back in Black': '1980',\n",
       " 'The Dark Side of the Moon': '1973',\n",
       " 'The Bodyguard': '1992',\n",
       " 'Bat Out of Hell': '1977',\n",
       " 'Their Greatest Hits (1971-1975)': '1976',\n",
       " 'Saturday Night Fever': '1977',\n",
       " 'Rumours': '1977'}"
      ]
     },
     "execution_count": 55,
     "metadata": {},
     "output_type": "execute_result"
    }
   ],
   "source": [
    "release_year_dict = {\"Thriller\": \"1982\", \"Back in Black\": \"1980\", \\\n",
    "                    \"The Dark Side of the Moon\": \"1973\", \"The Bodyguard\": \"1992\", \\\n",
    "                    \"Bat Out of Hell\": \"1977\", \"Their Greatest Hits (1971-1975)\": \"1976\", \\\n",
    "                    \"Saturday Night Fever\": \"1977\", \"Rumours\": \"1977\"}\n",
    "release_year_dict"
   ]
  },
  {
   "cell_type": "code",
   "execution_count": 56,
   "metadata": {},
   "outputs": [
    {
     "data": {
      "text/plain": [
       "dict_keys(['Thriller', 'Back in Black', 'The Dark Side of the Moon', 'The Bodyguard', 'Bat Out of Hell', 'Their Greatest Hits (1971-1975)', 'Saturday Night Fever', 'Rumours'])"
      ]
     },
     "execution_count": 56,
     "metadata": {},
     "output_type": "execute_result"
    }
   ],
   "source": [
    "release_year_dict.keys() "
   ]
  },
  {
   "cell_type": "code",
   "execution_count": 57,
   "metadata": {},
   "outputs": [
    {
     "data": {
      "text/plain": [
       "dict_values(['1982', '1980', '1973', '1992', '1977', '1976', '1977', '1977'])"
      ]
     },
     "execution_count": 57,
     "metadata": {},
     "output_type": "execute_result"
    }
   ],
   "source": [
    "release_year_dict.values() "
   ]
  },
  {
   "cell_type": "code",
   "execution_count": 60,
   "metadata": {},
   "outputs": [],
   "source": [
    "\n",
    "album_set1 = set([\"Thriller\", 'AC/DC', 'Back in Black'])\n",
    "album_set2 = set([ \"AC/DC\", \"Back in Black\", \"The Dark Side of the Moon\"])"
   ]
  },
  {
   "cell_type": "code",
   "execution_count": 61,
   "metadata": {},
   "outputs": [
    {
     "data": {
      "text/plain": [
       "False"
      ]
     },
     "execution_count": 61,
     "metadata": {},
     "output_type": "execute_result"
    }
   ],
   "source": [
    "set(album_set1).issuperset(album_set2)   "
   ]
  },
  {
   "cell_type": "code",
   "execution_count": 62,
   "metadata": {},
   "outputs": [
    {
     "data": {
      "text/plain": [
       "False"
      ]
     },
     "execution_count": 62,
     "metadata": {},
     "output_type": "execute_result"
    }
   ],
   "source": [
    "set(album_set2).issubset(album_set1)     "
   ]
  },
  {
   "cell_type": "code",
   "execution_count": 63,
   "metadata": {},
   "outputs": [
    {
     "data": {
      "text/plain": [
       "True"
      ]
     },
     "execution_count": 63,
     "metadata": {},
     "output_type": "execute_result"
    }
   ],
   "source": [
    "set({\"Back in Black\", \"AC/DC\"}).issubset(album_set1) "
   ]
  },
  {
   "cell_type": "code",
   "execution_count": 64,
   "metadata": {},
   "outputs": [
    {
     "data": {
      "text/plain": [
       "True"
      ]
     },
     "execution_count": 64,
     "metadata": {},
     "output_type": "execute_result"
    }
   ],
   "source": [
    "album_set1.issuperset({\"Back in Black\", \"AC/DC\"})   "
   ]
  },
  {
   "cell_type": "markdown",
   "metadata": {},
   "source": [
    "## EXCEPTION HANDLING"
   ]
  },
  {
   "cell_type": "code",
   "execution_count": 65,
   "metadata": {},
   "outputs": [
    {
     "name": "stdout",
     "output_type": "stream",
     "text": [
      "100/ -5  -->  -20.0\n",
      "100/ -4  -->  -25.0\n",
      "100/ -3  -->  -33.333333333333336\n",
      "100/ -2  -->  -50.0\n",
      "100/ -1  -->  -100.0\n",
      "error\n",
      "100/ 1  -->  100.0\n",
      "100/ 2  -->  50.0\n",
      "100/ 3  -->  33.333333333333336\n",
      "100/ 4  -->  25.0\n",
      "100/ 5  -->  20.0\n"
     ]
    }
   ],
   "source": [
    "for i in range(-5,6):\n",
    "\ttry:\n",
    "\t\tprint (\"100/\",i,\" --> \", 100/i)\n",
    "\texcept:\n",
    "\t\tprint (\"error\")"
   ]
  },
  {
   "cell_type": "code",
   "execution_count": 66,
   "metadata": {},
   "outputs": [
    {
     "name": "stdout",
     "output_type": "stream",
     "text": [
      "0  -->  1\n",
      "1  -->  2\n",
      "2  -->  3\n",
      "3  -->  4\n",
      "4  -->  5\n",
      "error\n",
      "error\n",
      "error\n"
     ]
    }
   ],
   "source": [
    "L=[1,2,3,4,5]\n",
    "\n",
    "for i in range(8):\n",
    "\ttry:\n",
    "\t\tprint (i,\" --> \",L[i])\n",
    "\texcept:\n",
    "\t\tprint (\"error\")"
   ]
  },
  {
   "cell_type": "code",
   "execution_count": 3,
   "metadata": {},
   "outputs": [],
   "source": [
    "# fileName = input('Enter file name ')\n",
    "# fp = open(fileName)\n",
    "# fp.close()\n",
    "# print('Done')\n",
    "\n",
    "#this one gives an error"
   ]
  },
  {
   "cell_type": "code",
   "execution_count": 4,
   "metadata": {},
   "outputs": [
    {
     "name": "stdout",
     "output_type": "stream",
     "text": [
      "Enter File Name: samplefile.csv\n",
      "Error !! \"samplefile.csv\" File Not Found\n",
      "Done\n"
     ]
    }
   ],
   "source": [
    "fileName=input(\"Enter File Name: \")\n",
    "try:\n",
    "\tfp=open(fileName)\t# Open the file in reading mode\n",
    "\tfp.close()\n",
    "except:\n",
    "\tprint (\"Error !! \\\"%s\\\" File Not Found\"%(fileName))\n",
    "\n",
    "print (\"Done\")"
   ]
  },
  {
   "cell_type": "markdown",
   "metadata": {},
   "source": [
    "## FILE HANDLING"
   ]
  },
  {
   "cell_type": "code",
   "execution_count": 5,
   "metadata": {},
   "outputs": [
    {
     "name": "stdout",
     "output_type": "stream",
     "text": [
      "Writing done !! \n",
      "Open result.txt to view the content\n"
     ]
    }
   ],
   "source": [
    "fp=open('result.txt','w')\t# Open the file in writing mode\n",
    "for  i in range(1,11):\n",
    "\tfp.write(str(i) + \"\\n\")\t# Writing to the file line by line\n",
    "fp.close()\n",
    "\n",
    "print (\"Writing done !! \\nOpen result.txt to view the content\")"
   ]
  },
  {
   "cell_type": "code",
   "execution_count": 6,
   "metadata": {},
   "outputs": [
    {
     "name": "stdout",
     "output_type": "stream",
     "text": [
      "1\n",
      "2\n",
      "3\n",
      "4\n",
      "5\n",
      "6\n",
      "7\n",
      "8\n",
      "9\n",
      "10\n"
     ]
    }
   ],
   "source": [
    "fp=open('result.txt')\t\t# Open the file in reading mode\n",
    "for line in fp: \t\t    # print line by line\n",
    "\tprint (line.strip())\n",
    "fp.close()"
   ]
  },
  {
   "cell_type": "code",
   "execution_count": 7,
   "metadata": {},
   "outputs": [
    {
     "name": "stdout",
     "output_type": "stream",
     "text": [
      "Writing done !! \n",
      "Open result.txt to view the content\n"
     ]
    }
   ],
   "source": [
    "Readfp=open('result.txt')\t\t# Open the file in reading mode\n",
    "Writefp=open('abc.txt','w')\t# Open the file in writing mode\n",
    "for line in Readfp: \n",
    "\tWritefp.write(line.upper())\n",
    "\t\n",
    "Writefp.close()\n",
    "Readfp.close()\n",
    "\n",
    "print (\"Writing done !! \\nOpen result.txt to view the content\")\n",
    "    "
   ]
  },
  {
   "cell_type": "code",
   "execution_count": null,
   "metadata": {},
   "outputs": [],
   "source": []
  }
 ],
 "metadata": {
  "kernelspec": {
   "display_name": "Python 3 (ipykernel)",
   "language": "python",
   "name": "python3"
  },
  "language_info": {
   "codemirror_mode": {
    "name": "ipython",
    "version": 3
   },
   "file_extension": ".py",
   "mimetype": "text/x-python",
   "name": "python",
   "nbconvert_exporter": "python",
   "pygments_lexer": "ipython3",
   "version": "3.9.6"
  }
 },
 "nbformat": 4,
 "nbformat_minor": 2
}
